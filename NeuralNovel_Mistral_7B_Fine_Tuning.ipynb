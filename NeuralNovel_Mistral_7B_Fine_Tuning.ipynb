{
  "cells": [
    {
      "cell_type": "code",
      "execution_count": null,
      "metadata": {
        "id": "GLXwJqbjtPho"
      },
      "outputs": [],
      "source": [
        "!pip install -q accelerate==0.21.0 peft==0.4.0 bitsandbytes==0.40.2 transformers==4.31.0 trl==0.4.7"
      ]
    },
    {
      "cell_type": "code",
      "source": [
        "!pip install --upgrade transformers accelerate"
      ],
      "metadata": {
        "id": "JIcal9CrVFkq"
      },
      "execution_count": null,
      "outputs": []
    },
    {
      "cell_type": "code",
      "execution_count": null,
      "metadata": {
        "id": "nAMzy_0FtaUZ"
      },
      "outputs": [],
      "source": [
        "import os\n",
        "import torch\n",
        "from datasets import load_dataset, Dataset\n",
        "from transformers import (\n",
        "    AutoModelForCausalLM,\n",
        "    AutoTokenizer,\n",
        "    BitsAndBytesConfig,\n",
        "    HfArgumentParser,\n",
        "    TrainingArguments,\n",
        "    pipeline,\n",
        "    logging,\n",
        "    Trainer,\n",
        "    default_data_collator\n",
        ")\n",
        "from peft import LoraConfig, PeftModel\n",
        "from trl import SFTTrainer\n",
        "import pandas as pd\n",
        "import torch\n",
        "from google.colab import files"
      ]
    },
    {
      "cell_type": "code",
      "execution_count": null,
      "metadata": {
        "id": "DOzKg0L_RGyp"
      },
      "outputs": [],
      "source": [
        "from huggingface_hub import notebook_login\n",
        "notebook_login()"
      ]
    },
    {
      "cell_type": "code",
      "execution_count": null,
      "metadata": {
        "id": "8_3nwGhNRMMA"
      },
      "outputs": [],
      "source": [
        "from google.colab import drive\n",
        "drive.mount('/content/drive')\n",
        "%cd /content/drive/MyDrive/CS224N"
      ]
    },
    {
      "cell_type": "markdown",
      "source": [
        "## Baseline, Without Fine-Tuning"
      ],
      "metadata": {
        "id": "Q71c1DpQTxCV"
      }
    },
    {
      "cell_type": "code",
      "source": [
        "# Load NeuralNovel model directly\n",
        "from transformers import AutoTokenizer, AutoModelForCausalLM\n",
        "from tqdm.auto import tqdm\n",
        "\n",
        "tokenizer = AutoTokenizer.from_pretrained(\"NeuralNovel/Mistral-7B-Instruct-v0.2-Neural-Story\")\n",
        "model = AutoModelForCausalLM.from_pretrained(\"NeuralNovel/Mistral-7B-Instruct-v0.2-Neural-Story\")"
      ],
      "metadata": {
        "id": "hiM-L9HmTyQ3"
      },
      "execution_count": null,
      "outputs": []
    },
    {
      "cell_type": "markdown",
      "source": [
        "Continuity Error"
      ],
      "metadata": {
        "id": "-3ZBlJuaufyH"
      }
    },
    {
      "cell_type": "code",
      "source": [
        "model = model.to('cuda')\n",
        "test_df = pd.read_csv('test_dataset.csv')\n",
        "responses = []\n",
        "\n",
        "for index, row in tqdm(test_df.iterrows(), total=test_df.shape[0]):\n",
        "    story = row['modified']\n",
        "\n",
        "    prompt = f\"There is one major continuity error, a lapse in the self-consistency of the narrative, in the story provided. Count the number of '<nl>' in the story that occurs before the continuity error. Return that number only. Do not return any other information in your response. Story: {story}\"\n",
        "\n",
        "    model_inputs = tokenizer(prompt, return_tensors=\"pt\").to('cuda')\n",
        "    output = model.generate(**model_inputs, max_new_tokens=50)\n",
        "    response = tokenizer.decode(output[0], skip_special_tokens=True)\n",
        "\n",
        "    responses.append(response)\n",
        "    print(f\"Response: {response}\")\n",
        "\n",
        "df_response = pd.DataFrame(responses, columns=['response'])\n",
        "df_response.to_csv(\"test_neuralnovel_responses.csv\", index=False)\n",
        "\n",
        "from google.colab import files\n",
        "files.download(\"test_neuralnovel_responses.csv\")"
      ],
      "metadata": {
        "id": "VbqbT_KVXlv6"
      },
      "execution_count": null,
      "outputs": []
    },
    {
      "cell_type": "markdown",
      "source": [
        "Unresolved Error"
      ],
      "metadata": {
        "id": "9neIebsGuiZb"
      }
    },
    {
      "cell_type": "code",
      "source": [
        "model = model.to('cuda')\n",
        "test_df = pd.read_csv('test_dataset_unresolved.csv').reset_index(drop=True).dropna()\n",
        "\n",
        "def remove_empty_lines(text):\n",
        "  lines = text.split('\\n')\n",
        "  non_empty_lines = [line.strip() for line in lines if line.strip()]\n",
        "  return '\\n'.join(non_empty_lines)\n",
        "\n",
        "test_df['story'] = test_df['story'].apply(remove_empty_lines)\n",
        "test_df['story_truncated'] = test_df['story_truncated'].apply(remove_empty_lines)\n",
        "\n",
        "import re\n",
        "from tqdm import tqdm\n",
        "responses = []\n",
        "\n",
        "for index, row in tqdm(test_df.iterrows(), total=test_df.shape[0]):\n",
        "    story = row['story_truncated']\n",
        "    proportion = row['chunk_prop']\n",
        "    prompt = f\"[INST] Estimate how complete the following story is, in terms of plot development. Answer only as a proportion. Do not include any other detaisl. Story: {story} [/INST]\"\n",
        "\n",
        "    model_inputs = tokenizer(prompt, return_tensors=\"pt\").to('cuda')\n",
        "    output = model.generate(**model_inputs,  max_length=1024)\n",
        "    print(output)\n",
        "    response = tokenizer.decode(output[0], skip_special_tokens=True)\n",
        "\n",
        "    print(response)\n",
        "    responses.append(response)\n",
        "\n",
        "df_response = pd.DataFrame(responses, columns=['response'])\n",
        "df_response.to_csv(\"test_responses.csv\", index=False)\n",
        "\n",
        "from google.colab import files\n",
        "files.download(\"test_responses.csv\")"
      ],
      "metadata": {
        "id": "SXK727OXuQsC"
      },
      "execution_count": null,
      "outputs": []
    },
    {
      "cell_type": "markdown",
      "source": [
        "## Fine-Tuning"
      ],
      "metadata": {
        "id": "IJ7mhY7KGJFb"
      }
    },
    {
      "cell_type": "markdown",
      "metadata": {
        "id": "EG5_2IokRRXo"
      },
      "source": [
        "Dataset Preprocessing"
      ]
    },
    {
      "cell_type": "code",
      "source": [
        "# Unresolved Error Dataset\n",
        "train_data = pd.read_csv('train_dataset_unresolved.csv')\n",
        "question = \"Evaluate the completeness of the given story. Answer only with a proportion, in the form of a decimal. Do not include any other details. Story: \"\n",
        "dataset = Dataset.from_pandas(train_data)\n",
        "\n",
        "def transform_story(example):\n",
        "    story_text = example['story']\n",
        "    error_position =  1 - example['chunk_prop']\n",
        "\n",
        "    formatted_text = f'[INST] Evaluate the completeness of the given story. Answer only with a proportion, in the form of a decimal. Do not include any other details. Story: {story_text} [/INST] {error_position} '\n",
        "    return {'text': formatted_text}\n",
        "\n",
        "transformed_dataset = dataset.map(transform_story)\n",
        "for i in range(5):\n",
        "    print(transformed_dataset[i]['text'])"
      ],
      "metadata": {
        "id": "Zu0Yp7UZt_DW"
      },
      "execution_count": null,
      "outputs": []
    },
    {
      "cell_type": "code",
      "execution_count": null,
      "metadata": {
        "id": "MqZByEpYTREy"
      },
      "outputs": [],
      "source": [
        "# Continuity Error Dataset\n",
        "df = pd.read_csv('train_dataset.csv')\n",
        "dataset = Dataset.from_pandas(df)\n",
        "\n",
        "def transform_story(example):\n",
        "    story_text = example['modified'].rstrip()\n",
        "    error_position = example['position']\n",
        "\n",
        "    formatted_text = f'<s>[INST] There is one major continuity error, a lapse in the self-consistency of the narrative, in the story provided. Count the number of \\'<nl>\\' in the story that occurs before the continuity error. Return that number only. Do not return any other information in your response. Story: {story_text} [/INST] {error_position} </s>'\n",
        "    return {'text': formatted_text}\n",
        "\n",
        "transformed_dataset = dataset.map(transform_story)\n",
        "for i in range(5):\n",
        "    print(transformed_dataset[i]['text'])\n"
      ]
    },
    {
      "cell_type": "markdown",
      "metadata": {
        "id": "9lCmdiqeTRpf"
      },
      "source": [
        "Fine-tuning Model Parameters"
      ]
    },
    {
      "cell_type": "code",
      "execution_count": null,
      "metadata": {
        "id": "ib_We3NLtj2E"
      },
      "outputs": [],
      "source": [
        "model_name = \"NeuralNovel/Mistral-7B-Instruct-v0.2-Neural-Story\"\n",
        "\n",
        "### QLoRA parameters\n",
        "\n",
        "# LoRA attention dimension\n",
        "lora_r = 64\n",
        "\n",
        "# Alpha parameter for LoRA scaling\n",
        "lora_alpha = 16\n",
        "\n",
        "# Dropout probability for LoRA layers\n",
        "lora_dropout = 0.1\n",
        "\n",
        "### bitsandbytes parameters\n",
        "\n",
        "# Activate 4-bit precision base model loading\n",
        "use_4bit = True\n",
        "\n",
        "# Compute dtype for 4-bit base models\n",
        "bnb_4bit_compute_dtype = \"float16\"\n",
        "\n",
        "# Quantization type (fp4 or nf4)\n",
        "bnb_4bit_quant_type = \"nf4\"\n",
        "\n",
        "# Activate nested quantization for 4-bit base models (double quantization)\n",
        "use_nested_quant = False\n",
        "\n",
        "### TrainingArguments parameters\n",
        "\n",
        "# Output directory where the model predictions and checkpoints will be stored\n",
        "output_dir = \"./results\"\n",
        "\n",
        "# Number of training epochs\n",
        "num_train_epochs = 1\n",
        "\n",
        "# Enable fp16/bf16 training (set bf16 to True with an A100)\n",
        "fp16 = True\n",
        "bf16 = False\n",
        "\n",
        "# Batch size per GPU for training\n",
        "per_device_train_batch_size = 4\n",
        "\n",
        "# Batch size per GPU for evaluation\n",
        "per_device_eval_batch_size = 4\n",
        "\n",
        "# Number of update steps to accumulate the gradients for\n",
        "gradient_accumulation_steps = 1\n",
        "\n",
        "# Enable gradient checkpointing\n",
        "gradient_checkpointing = True\n",
        "\n",
        "# Maximum gradient normal (gradient clipping)\n",
        "max_grad_norm = 0.3\n",
        "\n",
        "# Initial learning rate (AdamW optimizer)\n",
        "learning_rate = 2e-4\n",
        "\n",
        "# Weight decay to apply to all layers except bias/LayerNorm weights\n",
        "weight_decay = 0.001\n",
        "\n",
        "# Optimizer to use\n",
        "optim = \"paged_adamw_32bit\"\n",
        "\n",
        "# Learning rate schedule\n",
        "lr_scheduler_type = \"cosine\"\n",
        "\n",
        "# Number of training steps (overrides num_train_epochs)\n",
        "max_steps = -1\n",
        "\n",
        "# Ratio of steps for a linear warmup (from 0 to learning rate)\n",
        "warmup_ratio = 0.03\n",
        "\n",
        "# Group sequences into batches with same length\n",
        "group_by_length = True\n",
        "\n",
        "# Save checkpoint every X updates steps\n",
        "save_steps = 0\n",
        "\n",
        "# Log every X updates steps\n",
        "logging_steps = 25\n",
        "\n",
        "### SFT parameters\n",
        "\n",
        "# Maximum sequence length to use\n",
        "max_seq_length = 1024\n",
        "\n",
        "# Pack multiple short examples in the same input sequence to increase efficiency\n",
        "packing = False\n",
        "\n",
        "# Load the entire model on the GPU 0\n",
        "device_map = {\"\": 0}"
      ]
    },
    {
      "cell_type": "markdown",
      "metadata": {
        "id": "xJBTEPdjnHOM"
      },
      "source": [
        "Fine-tuning with QLoRA"
      ]
    },
    {
      "cell_type": "code",
      "execution_count": null,
      "metadata": {
        "id": "OJXpOgBFuSrc"
      },
      "outputs": [],
      "source": [
        "# Load tokenizer and model with QLoRA configuration\n",
        "compute_dtype = getattr(torch, bnb_4bit_compute_dtype)\n",
        "\n",
        "bnb_config = BitsAndBytesConfig(\n",
        "    load_in_4bit=use_4bit,\n",
        "    bnb_4bit_quant_type=bnb_4bit_quant_type,\n",
        "    bnb_4bit_compute_dtype=compute_dtype,\n",
        "    bnb_4bit_use_double_quant=use_nested_quant,\n",
        ")\n",
        "\n",
        "# Check GPU compatibility with bfloat16\n",
        "if compute_dtype == torch.float16 and use_4bit:\n",
        "    major, _ = torch.cuda.get_device_capability()\n",
        "    if major >= 8:\n",
        "        print(\"=\" * 80)\n",
        "        print(\"Your GPU supports bfloat16: accelerate training with bf16=True\")\n",
        "        print(\"=\" * 80)\n",
        "\n",
        "# Load base model\n",
        "model = AutoModelForCausalLM.from_pretrained(\n",
        "    model_name,\n",
        "    quantization_config=bnb_config,\n",
        "    device_map=device_map\n",
        ")\n",
        "model.config.use_cache = False\n",
        "model.config.pretraining_tp = 1\n",
        "\n",
        "# Load LLaMA tokenizer\n",
        "tokenizer = AutoTokenizer.from_pretrained(model_name, trust_remote_code=True)\n",
        "tokenizer.pad_token = tokenizer.eos_token\n",
        "tokenizer.padding_side = \"right\"\n",
        "\n",
        "# Load LoRA configuration specific to Mistral\n",
        "peft_config = LoraConfig(\n",
        "    r=8,\n",
        "    lora_alpha=16,\n",
        "    target_modules=[\n",
        "        \"q_proj\",\n",
        "        \"k_proj\",\n",
        "        \"v_proj\",\n",
        "        \"o_proj\",\n",
        "        \"gate_proj\",\n",
        "        \"up_proj\",\n",
        "        \"down_proj\",\n",
        "        \"lm_head\",\n",
        "    ],\n",
        "    bias=\"none\",\n",
        "    lora_dropout=0.05,\n",
        "    task_type=\"CAUSAL_LM\",\n",
        ")\n",
        "\n",
        "# Set training parameters\n",
        "training_arguments = TrainingArguments(\n",
        "    output_dir=output_dir,\n",
        "    num_train_epochs=num_train_epochs,\n",
        "    per_device_train_batch_size=per_device_train_batch_size,\n",
        "    gradient_accumulation_steps=gradient_accumulation_steps,\n",
        "    optim=optim,\n",
        "    save_steps=save_steps,\n",
        "    logging_steps=logging_steps,\n",
        "    learning_rate=learning_rate,\n",
        "    weight_decay=weight_decay,\n",
        "    fp16=fp16,\n",
        "    bf16=bf16,\n",
        "    max_grad_norm=max_grad_norm,\n",
        "    max_steps=max_steps,\n",
        "    warmup_ratio=warmup_ratio,\n",
        "    group_by_length=group_by_length,\n",
        "    lr_scheduler_type=lr_scheduler_type,\n",
        "    report_to=\"tensorboard\"\n",
        ")\n",
        "\n",
        "# Set supervised fine-tuning parameters\n",
        "trainer = SFTTrainer(\n",
        "    model=model,\n",
        "    train_dataset=transformed_dataset,\n",
        "    peft_config=peft_config,\n",
        "    dataset_text_field=\"text\",\n",
        "    max_seq_length=max_seq_length,\n",
        "    tokenizer=tokenizer,\n",
        "    args=training_arguments,\n",
        "    packing=packing,\n",
        ")\n",
        "\n",
        "# Train model\n",
        "trainer.train()\n",
        "\n",
        "# Save trained model\n",
        "trainer.model.save_pretrained(\"neuralnovel-mistral-7b\")\n",
        "\n",
        "model.eval()"
      ]
    },
    {
      "cell_type": "markdown",
      "metadata": {
        "id": "y1iJJuiIl7WH"
      },
      "source": [
        "## Evaluation on Test Set"
      ]
    },
    {
      "cell_type": "markdown",
      "source": [
        "Unresolved Error"
      ],
      "metadata": {
        "id": "_eZTl3o60fpq"
      }
    },
    {
      "cell_type": "code",
      "source": [
        "test_df = pd.read_csv('test_dataset_unresolved.csv').reset_index(drop=True).dropna()\n",
        "def remove_empty_lines(text):\n",
        "  lines = text.split('\\n')\n",
        "  non_empty_lines = [line.strip() for line in lines if line.strip()]\n",
        "  return '\\n'.join(non_empty_lines)\n",
        "\n",
        "# Apply the function to the text column\n",
        "test_df['story'] = test_df['story'].apply(remove_empty_lines)\n",
        "test_df['story_truncated'] = test_df['story_truncated'].apply(remove_empty_lines)\n",
        "\n",
        "import re\n",
        "from tqdm import tqdm\n",
        "responses = []\n",
        "\n",
        "for index, row in tqdm(test_df.iterrows(), total=test_df.shape[0]):\n",
        "    story = row['story_truncated']\n",
        "    proportion = 1 - row['chunk_prop']\n",
        "    prompt = f\"[INST] Estimate how complete the following story is, in terms of plot development. Answer only as a proportion. Do not include any other detaisl. Story: {story} [/INST]\"\n",
        "\n",
        "    model_inputs = tokenizer(prompt, return_tensors=\"pt\").to('cuda')\n",
        "    output = model.generate(**model_inputs,  max_length=1024)\n",
        "    response = tokenizer.decode(output[0], skip_special_tokens=True)\n",
        "\n",
        "    print(response)\n",
        "    responses.append(response)\n",
        "\n",
        "df_response = pd.DataFrame(responses, columns=['response'])\n",
        "df_response.to_csv(\"test_neuralnovel_responses.csv\", index=False)\n",
        "\n",
        "from google.colab import files\n",
        "files.download(\"test_neuralnovel_responses.csv\")"
      ],
      "metadata": {
        "id": "DCfRw4qe0hZR"
      },
      "execution_count": null,
      "outputs": []
    },
    {
      "cell_type": "markdown",
      "source": [
        "Continuity Error"
      ],
      "metadata": {
        "id": "PonuWSt-0cr3"
      }
    },
    {
      "cell_type": "code",
      "execution_count": null,
      "metadata": {
        "id": "PspDFs6Vz8Du"
      },
      "outputs": [],
      "source": [
        "from tqdm.auto import tqdm\n",
        "test_df = pd.read_csv('test_dataset.csv')\n",
        "\n",
        "responses = []\n",
        "\n",
        "for index, row in tqdm(test_df.iterrows(), total=test_df.shape[0]):\n",
        "    story = row['modified']\n",
        "    prompt = f\"There is one major continuity error, a lapse in the self-consistency of the narrative, in the story provided. Count the number of '<nl>' in the story that occurs before the continuity error. Return that number only. Do not return any other information in your response. Story: {story}\"\n",
        "\n",
        "    model_inputs = tokenizer(prompt, return_tensors=\"pt\").to('cuda')\n",
        "    output = model.generate(**model_inputs, max_new_tokens=50)\n",
        "    response = tokenizer.decode(output[0], skip_special_tokens=True)\n",
        "\n",
        "    responses.append(response)\n",
        "    print(f\"Response: {response}\")\n",
        "\n",
        "df_response = pd.DataFrame(responses, columns=['response'])\n",
        "df_response.to_csv(\"test_neuralnovel_qlora_responses.csv\", index=False)\n",
        "\n",
        "from google.colab import files\n",
        "files.download(\"test_neuralnovel_qlora_responses.csv\")"
      ]
    },
    {
      "cell_type": "markdown",
      "metadata": {
        "id": "dd5LWiRFjyUo"
      },
      "source": [
        "## Evaluation Metrics"
      ]
    },
    {
      "cell_type": "code",
      "source": [
        "test_df_preds = pd.read_csv('test_neuralnovel_qlora_responses.csv')\n",
        "test_df_trues = pd.read_csv('test_dataset.csv')\n",
        "\n",
        "print(test_df_trues.head())\n",
        "print(test_df_preds.head())"
      ],
      "metadata": {
        "id": "14Hiqd2AhgSo"
      },
      "execution_count": null,
      "outputs": []
    },
    {
      "cell_type": "code",
      "execution_count": null,
      "metadata": {
        "id": "SCog7Kc9jyCE"
      },
      "outputs": [],
      "source": [
        "from sklearn.metrics import accuracy_score, precision_score, recall_score, f1_score\n",
        "from sklearn.metrics import mean_squared_error, r2_score, mean_absolute_error\n",
        "from sklearn.metrics import roc_auc_score, confusion_matrix\n",
        "import numpy as np\n",
        "import pandas as pd\n",
        "\n",
        "# Convert true and predicted positions to arrays for scoring\n",
        "y_true = test_df_trues[\"position\"]\n",
        "y_pred = test_df_preds[\"position\"]\n",
        "\n",
        "# Classification Metrics\n",
        "accuracy = accuracy_score(y_true, y_pred)\n",
        "precision = precision_score(y_true, y_pred, average='weighted', zero_division=1)\n",
        "recall = recall_score(y_true, y_pred, average='weighted', zero_division=1)\n",
        "f1 = f1_score(y_true, y_pred, average='weighted', zero_division=1)\n",
        "\n",
        "# Regression Metrics\n",
        "mse = mean_squared_error(y_true, y_pred)\n",
        "rmse = np.sqrt(mse)\n",
        "mae = mean_absolute_error(y_true, y_pred)\n",
        "r_squared = r2_score(y_true, y_pred)\n",
        "\n",
        "# Print all metrics\n",
        "print(f'Classification Metrics:\\nAccuracy: {accuracy}\\nPrecision: {precision}\\nRecall: {recall}\\nF1 Score: {f1}')\n",
        "print(f'Regression Metrics:\\nMSE: {mse}\\nRMSE: {rmse}\\nMAE: {mae}\\nR-squared: {r_squared}')"
      ]
    }
  ],
  "metadata": {
    "colab": {
      "provenance": []
    },
    "kernelspec": {
      "display_name": "Python 3",
      "name": "python3"
    },
    "language_info": {
      "name": "python"
    }
  },
  "nbformat": 4,
  "nbformat_minor": 0
}